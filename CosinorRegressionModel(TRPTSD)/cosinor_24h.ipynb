{
 "cells": [
  {
   "cell_type": "markdown",
   "id": "029bb9f2",
   "metadata": {},
   "source": [
    "# Cosinor Regression Model used for 24-hours Window Analysis"
   ]
  },
  {
   "cell_type": "code",
   "execution_count": 3,
   "id": "6ebde1a4",
   "metadata": {},
   "outputs": [],
   "source": [
    "import pandas as pd\n",
    "import numpy as np\n",
    "import matplotlib.pyplot as plt\n",
    "import seaborn as sns\n",
    "from numpy.ma import add\n",
    "from CosinorPy import file_parser, cosinor, cosinor1\n",
    "np.seterr(divide='ignore')\n",
    "import scipy.signal as signal\n",
    "import scipy.stats as stats\n",
    "import matplotlib.pyplot as plt\n",
    "import statsmodels\n",
    "import statsmodels.api as sm\n",
    "import statsmodels.formula.api as smf\n",
    "import statsmodels.stats.multitest as multi\n",
    "from scipy.optimize import curve_fit\n",
    "from statsmodels.sandbox.regression.predstd import wls_prediction_std\n",
    "from scipy.stats import percentileofscore\n",
    "from scipy.stats import circstd, circmean\n",
    "\n",
    "import copy\n",
    "import itertools\n",
    "from random import sample\n",
    "import os\n",
    "import copy\n",
    "from CosinorPy.helpers import df_add_row"
   ]
  },
  {
   "cell_type": "markdown",
   "id": "ffc02757",
   "metadata": {},
   "source": [
    "### Data Preparation"
   ]
  },
  {
   "cell_type": "code",
   "execution_count": 6,
   "id": "872c2d28",
   "metadata": {},
   "outputs": [],
   "source": [
    "def load_data(path):\n",
    "    \"\"\"Function used to parser the data using the file_parser method from the CosinorPy package\"\"\"\n",
    "    df = pd.read_csv(path)\n",
    "    df['Region start time'] = pd.to_datetime(df['Region start time'])\n",
    "    df['date'] = df['Region start time'].dt.date\n",
    "    df['hour'] = df['Region start time'].dt.hour\n",
    "    df = df.drop('Unnamed: 0', axis=1)\n",
    "    return df"
   ]
  },
  {
   "cell_type": "code",
   "execution_count": 7,
   "id": "121a436b",
   "metadata": {},
   "outputs": [],
   "source": [
    "pre_data = load_data(\"data/RNS_G_Pre_output.csv\")\n",
    "post_data = load_data(\"data/RNS_G_M1_output.csv\")"
   ]
  },
  {
   "cell_type": "code",
   "execution_count": null,
   "id": "06004f25",
   "metadata": {},
   "outputs": [],
   "source": []
  }
 ],
 "metadata": {
  "kernelspec": {
   "display_name": "base",
   "language": "python",
   "name": "python3"
  },
  "language_info": {
   "codemirror_mode": {
    "name": "ipython",
    "version": 3
   },
   "file_extension": ".py",
   "mimetype": "text/x-python",
   "name": "python",
   "nbconvert_exporter": "python",
   "pygments_lexer": "ipython3",
   "version": "3.12.7"
  }
 },
 "nbformat": 4,
 "nbformat_minor": 5
}
