{
 "cells": [
  {
   "cell_type": "markdown",
   "id": "029bb9f2",
   "metadata": {},
   "source": [
    "# Cosinor Regression Model used for 24-hours Window Analysis"
   ]
  },
  {
   "cell_type": "markdown",
   "id": "6ebde1a4",
   "metadata": {},
   "source": []
  }
 ],
 "metadata": {
  "language_info": {
   "name": "python"
  }
 },
 "nbformat": 4,
 "nbformat_minor": 5
}
